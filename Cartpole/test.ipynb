{
 "cells": [
  {
   "cell_type": "code",
   "execution_count": 1,
   "metadata": {
    "collapsed": true
   },
   "outputs": [],
   "source": [
    "import numpy as np"
   ]
  },
  {
   "cell_type": "code",
   "execution_count": 2,
   "metadata": {
    "collapsed": true
   },
   "outputs": [],
   "source": [
    "W = np.zeros((4,2))"
   ]
  },
  {
   "cell_type": "code",
   "execution_count": 4,
   "metadata": {
    "collapsed": false
   },
   "outputs": [
    {
     "name": "stdout",
     "output_type": "stream",
     "text": [
      "[[ 0.  0.]\n",
      " [ 0.  0.]\n",
      " [ 0.  0.]\n",
      " [ 0.  0.]]\n"
     ]
    }
   ],
   "source": [
    "print(W)"
   ]
  },
  {
   "cell_type": "code",
   "execution_count": 5,
   "metadata": {
    "collapsed": true
   },
   "outputs": [],
   "source": [
    "import matplotlib.pyplot as plt"
   ]
  },
  {
   "cell_type": "code",
   "execution_count": 8,
   "metadata": {
    "collapsed": true
   },
   "outputs": [],
   "source": [
    "W = np.random.uniform(0,1,(50,50))"
   ]
  },
  {
   "cell_type": "code",
   "execution_count": 9,
   "metadata": {
    "collapsed": false
   },
   "outputs": [
    {
     "name": "stdout",
     "output_type": "stream",
     "text": [
      "[[ 0.56400644  0.41496099  0.347327   ...,  0.12528656  0.57750369\n",
      "   0.93038631]\n",
      " [ 0.98121307  0.8877114   0.07966797 ...,  0.29414914  0.23381962\n",
      "   0.37284041]\n",
      " [ 0.61576418  0.01378104  0.81742188 ...,  0.04911925  0.88851736\n",
      "   0.22608616]\n",
      " ..., \n",
      " [ 0.85862058  0.32471219  0.16848121 ...,  0.14305551  0.55467661\n",
      "   0.08088598]\n",
      " [ 0.46813916  0.20185338  0.43548289 ...,  0.28984913  0.01385589\n",
      "   0.39150426]\n",
      " [ 0.82721357  0.72071825  0.00146381 ...,  0.28037831  0.03053384\n",
      "   0.01932102]]\n"
     ]
    }
   ],
   "source": [
    "print(W)"
   ]
  },
  {
   "cell_type": "code",
   "execution_count": 10,
   "metadata": {
    "collapsed": true
   },
   "outputs": [],
   "source": [
    "W = np.random.uniform(0,1,(2,50))"
   ]
  },
  {
   "cell_type": "code",
   "execution_count": 11,
   "metadata": {
    "collapsed": false
   },
   "outputs": [
    {
     "name": "stdout",
     "output_type": "stream",
     "text": [
      "[ 0.34974707  0.2212602   0.24110772  0.8057578   0.35786125  0.57517485\n",
      "  0.43676103  0.28369328  0.36370139  0.75375142  0.82140538  0.20088975\n",
      "  0.28155     0.0108695   0.76085516  0.06219706  0.26606002  0.04884239\n",
      "  0.36351536  0.99319007  0.60374648  0.50512873  0.88834023  0.94648891\n",
      "  0.74633991  0.56212758  0.19695151  0.81422979  0.69156476  0.30590686\n",
      "  0.21991046  0.49503069  0.35863817  0.03350985  0.9381324   0.60497071\n",
      "  0.53486709  0.83410356  0.43841612  0.70274644  0.41097289  0.90439324\n",
      "  0.12035925  0.49414373  0.96814427  0.70364893  0.04747706  0.58672899\n",
      "  0.98865045  0.67585729]\n"
     ]
    }
   ],
   "source": [
    "print(W[1])"
   ]
  },
  {
   "cell_type": "code",
   "execution_count": 13,
   "metadata": {
    "collapsed": false
   },
   "outputs": [
    {
     "data": {
      "text/plain": [
       "[<matplotlib.lines.Line2D at 0x7f088d1a99e8>]"
      ]
     },
     "execution_count": 13,
     "metadata": {},
     "output_type": "execute_result"
    }
   ],
   "source": [
    "plt.plot(W[0], W[1])"
   ]
  },
  {
   "cell_type": "code",
   "execution_count": 14,
   "metadata": {
    "collapsed": true
   },
   "outputs": [],
   "source": [
    "plt.show()"
   ]
  },
  {
   "cell_type": "code",
   "execution_count": 15,
   "metadata": {
    "collapsed": true
   },
   "outputs": [],
   "source": [
    "%matplotlib inline"
   ]
  },
  {
   "cell_type": "code",
   "execution_count": null,
   "metadata": {
    "collapsed": true
   },
   "outputs": [],
   "source": []
  }
 ],
 "metadata": {
  "kernelspec": {
   "display_name": "Python 3",
   "language": "python",
   "name": "python3"
  },
  "language_info": {
   "codemirror_mode": {
    "name": "ipython",
    "version": 3
   },
   "file_extension": ".py",
   "mimetype": "text/x-python",
   "name": "python",
   "nbconvert_exporter": "python",
   "pygments_lexer": "ipython3",
   "version": "3.4.3"
  }
 },
 "nbformat": 4,
 "nbformat_minor": 0
}
